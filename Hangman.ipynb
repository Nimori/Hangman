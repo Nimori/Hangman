{
 "cells": [
  {
   "cell_type": "code",
   "execution_count": null,
   "id": "77db4bcd",
   "metadata": {},
   "outputs": [],
   "source": [
    "import random\n",
    "from ipynb.fs.full.Hangman_words import word_list\n",
    "from ipynb.fs.full.Hangman_art import stages, logo"
   ]
  },
  {
   "cell_type": "code",
   "execution_count": null,
   "id": "2ce4b464",
   "metadata": {},
   "outputs": [],
   "source": [
    "word= random.choice(word_list)"
   ]
  },
  {
   "cell_type": "code",
   "execution_count": null,
   "id": "a6dc8174",
   "metadata": {},
   "outputs": [],
   "source": [
    "word"
   ]
  },
  {
   "cell_type": "markdown",
   "id": "bf666ec1",
   "metadata": {},
   "source": [
    "## Test"
   ]
  },
  {
   "cell_type": "code",
   "execution_count": null,
   "id": "f9ab0539",
   "metadata": {},
   "outputs": [],
   "source": [
    "blanks= ''\n",
    "for i in range(len(word)):\n",
    "    blanks+= '-'\n",
    "blanks_new= list(blanks)\n",
    "print(''.join(str(elem) for elem in blanks_new))"
   ]
  },
  {
   "cell_type": "markdown",
   "id": "fe50ebd4",
   "metadata": {},
   "source": [
    "## Hangman Function"
   ]
  },
  {
   "cell_type": "code",
   "execution_count": null,
   "id": "ba9525f2",
   "metadata": {},
   "outputs": [],
   "source": [
    "def hangman():\n",
    "    print(f'{logo}\\n\\n')\n",
    "    print(f'Welcome to the game of Hangman\\nYou will get {len(stages)} lives for the man, expending all of which you will lose the game and the man will hang\\nBest of Luck!\\n')\n",
    "    blanks= ''\n",
    "    for i in range(len(word)):\n",
    "        blanks+= '-'\n",
    "    print(blanks)\n",
    "    lives= len(stages)\n",
    "    blanks_new= list(blanks)\n",
    "\n",
    "    while lives>0:\n",
    "        cond= False\n",
    "        user_ip= input('Guess the letter: ')\n",
    "        for i in range(len(word)):\n",
    "            if user_ip==word[i]:\n",
    "                blanks_new[i]= word[i]\n",
    "                cond= True\n",
    "        \n",
    "        word_updated= ''.join(str(elem) for elem in blanks_new)\n",
    "        if word_updated==word:\n",
    "            print('Yay! You won!!')\n",
    "            yn1= input('Play Again? Y or N')\n",
    "            if yn1=='Y':\n",
    "                hangman()\n",
    "            elif yn1=='N':\n",
    "                print(\"The End. Have a Nice Day Winner\")\n",
    "                break\n",
    "            else:\n",
    "                print('Error. Try Again')\n",
    "        if cond==True and word_updated!=word:\n",
    "            print(word_updated)\n",
    "        elif cond== False:\n",
    "            print(f'{stages[lives-1]}\\n')\n",
    "            print(f'Wrong Guess, you now have {lives - 1} lives left!')\n",
    "            print(word_updated)\n",
    "            lives-=1\n",
    "    if lives==0:\n",
    "        print(f'{stages[0]}\\n')\n",
    "        yn2= input(f'Game Over, the man is dead!!\\nThe word was {word}\\nTry again? Y or N')\n",
    "        if yn2=='Y':\n",
    "            hangman()\n",
    "        elif yn2=='N':\n",
    "            print(\"The End. Have a Nice Day loser\")\n",
    "        else:\n",
    "            print('Error. Try Again')"
   ]
  },
  {
   "cell_type": "code",
   "execution_count": null,
   "id": "af5c7240",
   "metadata": {
    "scrolled": true
   },
   "outputs": [],
   "source": [
    "hangman()"
   ]
  }
 ],
 "metadata": {
  "kernelspec": {
   "display_name": "Python 3",
   "language": "python",
   "name": "python3"
  },
  "language_info": {
   "codemirror_mode": {
    "name": "ipython",
    "version": 3
   },
   "file_extension": ".py",
   "mimetype": "text/x-python",
   "name": "python",
   "nbconvert_exporter": "python",
   "pygments_lexer": "ipython3",
   "version": "3.8.5"
  }
 },
 "nbformat": 4,
 "nbformat_minor": 5
}
